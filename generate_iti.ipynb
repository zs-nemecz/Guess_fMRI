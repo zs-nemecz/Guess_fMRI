{
 "cells": [
  {
   "cell_type": "code",
   "execution_count": null,
   "id": "c9a7be9c-dd91-4b2b-9d61-b47cc0dd717b",
   "metadata": {},
   "outputs": [],
   "source": [
    "# source : https://stackoverflow.com/questions/25141250/how-to-truncate-a-numpy-scipy-exponential-distribution-in-an-efficient-way"
   ]
  },
  {
   "cell_type": "code",
   "execution_count": 1,
   "id": "5544ff8a-54be-48a7-97d2-3c4c5108866a",
   "metadata": {},
   "outputs": [
    {
     "name": "stderr",
     "output_type": "stream",
     "text": [
      "C:\\Users\\Asus\\anaconda3\\lib\\site-packages\\numpy\\_distributor_init.py:30: UserWarning: loaded more than 1 DLL from .libs:\n",
      "C:\\Users\\Asus\\anaconda3\\lib\\site-packages\\numpy\\.libs\\libopenblas.EL2C6PLE4ZYW3ECEVIV3OXXGRN2NRFM2.gfortran-win_amd64.dll\n",
      "C:\\Users\\Asus\\anaconda3\\lib\\site-packages\\numpy\\.libs\\libopenblas.fb5ae2tyxyh2ijrdkgdgq3xbklktf43h.gfortran-win_amd64.dll\n",
      "  warnings.warn(\"loaded more than 1 DLL from .libs:\"\n"
     ]
    }
   ],
   "source": [
    "import scipy.optimize as so\n",
    "import scipy.stats as scp\n",
    "import numpy as np\n",
    "import matplotlib.pyplot as plt"
   ]
  },
  {
   "cell_type": "code",
   "execution_count": 2,
   "id": "bdf178ea-b00c-42aa-88ea-ccc4fb244189",
   "metadata": {},
   "outputs": [],
   "source": [
    "def trunc_exp_rv(low, high, scale, size):\n",
    "    rnd_cdf = np.random.uniform(scp.expon.cdf(x=low, scale=scale),\n",
    "                                scp.expon.cdf(x=high, scale=scale),\n",
    "                                size=size)\n",
    "    return scp.expon.ppf(q=rnd_cdf, scale=scale)\n",
    "def solve_for_l(low, high, ept_mean):\n",
    "    A = np.array([low, high])\n",
    "    return 1/so.fmin(lambda L: ((np.diff(np.exp(-A*L)*(A*L+1)/L)/np.diff(np.exp(-A*L)))-ept_mean)**2,\n",
    "                     x0=0.5,\n",
    "                     full_output=False, disp=False)\n",
    "def F(low, high, ept_mean, size):\n",
    "    return trunc_exp_rv(low, high,\n",
    "                        solve_for_l(low, high, ept_mean),\n",
    "                        size)\n"
   ]
  },
  {
   "cell_type": "code",
   "execution_count": null,
   "id": "2748fe5f-cd3a-4a32-9af2-23b4154fe235",
   "metadata": {},
   "outputs": [],
   "source": [
    "iti_learning = F(2, 6, 3, 40)\n",
    "plt.hist(iti_learning, bins=50)\n",
    "plt.xlim(0, 12)\n",
    "print(iti_learning.mean())"
   ]
  },
  {
   "cell_type": "code",
   "execution_count": 33,
   "id": "63b8260c-c744-498b-b23c-03acbfc9fa3a",
   "metadata": {},
   "outputs": [],
   "source": [
    "np.savetxt('iti_randomization.csv', iti_learning, delimiter=',', fmt = '%.4f', header='iti', comments='')"
   ]
  },
  {
   "cell_type": "code",
   "execution_count": 43,
   "id": "2fe10d77-cef9-4a94-a503-f11d577e4aa9",
   "metadata": {},
   "outputs": [
    {
     "name": "stdout",
     "output_type": "stream",
     "text": [
      "2.98020753176451\n"
     ]
    },
    {
     "data": {
      "image/png": "[encoded data removed]",
      "text/plain": [
       "<Figure size 640x480 with 1 Axes>"
      ]
     },
     "metadata": {},
     "output_type": "display_data"
    }
   ],
   "source": [
    "guess_delay = F(2, 6, 3, 20)\n",
    "plt.hist(guess_delay, bins=50)\n",
    "plt.xlim(0, 12)\n",
    "print(guess_delay.mean())"
   ]
  },
  {
   "cell_type": "code",
   "execution_count": 44,
   "id": "1e14f707-3bb9-4490-80a3-d47b56fd21ec",
   "metadata": {},
   "outputs": [],
   "source": [
    "np.savetxt('guess_random_delay.csv', guess_delay, delimiter=',', fmt = '%.4f', header='delay', comments='')"
   ]
  },
  {
   "cell_type": "code",
   "execution_count": 52,
   "id": "2bb1bd0d-7b4e-4e66-9a2c-8f838788ccdd",
   "metadata": {},
   "outputs": [
    {
     "name": "stdout",
     "output_type": "stream",
     "text": [
      "2.995751143973854\n"
     ]
    },
    {
     "data": {
      "image/png": "[encoded data removed]",
      "text/plain": [
       "<Figure size 640x480 with 1 Axes>"
      ]
     },
     "metadata": {},
     "output_type": "display_data"
    }
   ],
   "source": [
    "iti_sm = F(2, 6, 3, 80)\n",
    "plt.hist(iti_sm, bins=50)\n",
    "plt.xlim(0, 12)\n",
    "print(iti_sm.mean())"
   ]
  },
  {
   "cell_type": "code",
   "execution_count": 53,
   "id": "55ffc6e5-92d1-4141-a4b2-cd7f7b95e3d2",
   "metadata": {},
   "outputs": [],
   "source": [
    "np.savetxt('sm_iti_randomization.csv', iti_sm, delimiter=',', fmt = '%.4f', header = 'iti', comments='')"
   ]
  },
  {
   "cell_type": "code",
   "execution_count": null,
   "id": "1bb09f07-32e7-4033-99a8-bb5d09b4615b",
   "metadata": {},
   "outputs": [],
   "source": []
  }
 ],
 "metadata": {
  "kernelspec": {
   "display_name": "Python 3 (ipykernel)",
   "language": "python",
   "name": "python3"
  },
  "language_info": {
   "codemirror_mode": {
    "name": "ipython",
    "version": 3
   },
   "file_extension": ".py",
   "mimetype": "text/x-python",
   "name": "python",
   "nbconvert_exporter": "python",
   "pygments_lexer": "ipython3",
   "version": "3.10.9"
  }
 },
 "nbformat": 4,
 "nbformat_minor": 5
}
