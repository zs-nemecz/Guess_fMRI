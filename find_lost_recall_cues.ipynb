{
 "cells": [
  {
   "cell_type": "code",
   "execution_count": null,
   "id": "a5c4178c-c58c-4282-8179-eb026aa64553",
   "metadata": {},
   "outputs": [],
   "source": [
    "import os.path as op\n",
    "import pandas as pd\n",
    "import glob"
   ]
  },
  {
   "cell_type": "code",
   "execution_count": null,
   "id": "2f66b982-3e08-44fb-bfbc-ad626b38acf2",
   "metadata": {},
   "outputs": [],
   "source": [
    "def find_datafiles(filename):\n",
    "    f = glob.glob(filename)\n",
    "    return(f)"
   ]
  },
  {
   "cell_type": "code",
   "execution_count": null,
   "id": "fecdd904-15c2-420c-8b95-fd5aaf46cf1c",
   "metadata": {},
   "outputs": [],
   "source": [
    "data_folder = \"C:\\\\Users\\\\LocalAdmin\\\\Documents\\\\GUESS\\\\Guess_fMRI\\\\data\""
   ]
  },
  {
   "cell_type": "code",
   "execution_count": null,
   "id": "ea36bea4-e138-4f29-bd90-f81753ded881",
   "metadata": {},
   "outputs": [],
   "source": [
    "# find renamed data files to identify relevant log files and obtain ID\n",
    "filename = op.join(data_folder, 'pilot2_*.csv')\n",
    "file_list = find_datafiles(filename)\n",
    "frames = []\n",
    "print(filename)\n",
    "print(file_list)\n",
    "# loop through file list\n",
    "for f in file_list:\n",
    "    split_fname = f.split('_') # split name into chunks seperated by '_'\n",
    "    pid = split_fname[1].split('\\\\')[-1] # second chunk is the ID\n",
    "    date = split_fname[-2] # second to last bit is date\n",
    "    time = split_fname[-1].split('.') # last bit is time + extension\n",
    "    time.pop()\n",
    "    time = '.'.join(time)\n",
    "    \n",
    "    # find log file matching date and time\n",
    "    log_fname = pid + \"_guess_\" + date + '_' + time + \".log\" # pilot2_guess_2025-04-22_13h19.30.422.log\n",
    "    log_fpath = op.join(data_folder, log_fname)\n",
    "    log_file_list = find_datafiles(log_fpath)\n",
    "    print(log_file_list)\n",
    "    if len(log_file_list) > 1:\n",
    "        print('Warning! More than 1 log file.')\n",
    "    elif len(log_file_list) < 1:\n",
    "        print('Warning: No log file attached to data sheet.')\n",
    "        print('\\t affected data: ', date, time, id)\n",
    "        continue\n",
    "    log_file = log_file_list[0] # open the first occurence\n",
    "    log_file = open(log_file, \"r\")\n",
    "    log = log_file.read()\n",
    "    log_part1_part2 = ''\n",
    "    \n",
    "    if \"end_part2_text: autoDraw = True\" in log: # check if participant finished the task\n",
    "        log_part1_part2 = log.split('end_part1_text: autoDraw = True')[0] #split learning and recall\n",
    "        if 'start_task_text: autoDraw = True' in log_part1_part2: \n",
    "            log_part1_part2 = log_part1_part2.split('start_task_text: autoDraw = True')\n",
    "            log_part1_part2 = log_part1_part2[1] # we don't care about practice\n",
    "        trials = log_part1_part2.split(\"cue_stim_learning: text = \")\n",
    "        trials.pop(0) # first element is irrelevant, because it precedes the occurence of the word\n",
    "        print(len(trials)) # sanity check: should be 100 if they finished\n",
    "\n",
    "        indeces = []\n",
    "        cues = []\n",
    "        \n",
    "        for trial in trials:\n",
    "            lines = trial.split('\\n')\n",
    "            cue = lines[0] # first line contains the cue\n",
    "            cues.append(cue)\n",
    "            indeces.append()\n",
    "            i += 1\n",
    "        \n",
    "        # create df for the participant\n",
    "        data = np.array([indeces, rts, responses]).transpose()\n",
    "        column_values = ['Trial', 'RT', 'Response']\n",
    "        # creating the dataframe\n",
    "        df = pd.DataFrame(data = data,  \n",
    "                          columns = column_values)\n",
    "        df['RT'] = df['RT'].astype(float)\n",
    "        df['Response'] = df['Response'].astype(float) # save responses as float because of NaN values\n",
    "        df['Online_ID'] = online_id\n",
    "        df['Date'] = date\n",
    "        df['Time'] = time\n",
    "        df = pd.concat([df, trial_info], axis=1)\n",
    "        \n",
    "        df['correct'] = df['Response'] == df['correct_response']\n",
    "        \n",
    "        # Responses can be: 1, 2, 3, 4 \n",
    "        # The difference between a given response and Target is saved in the 'var1_diff' 'var2_diff' etc columns.\n",
    "        # Make a list from the 'var1_diff'... columns. \n",
    "        # The Response can be used as an index, selecting from the right column ((converted to int)-1)\n",
    "        # Select the row based on the index of the trial\n",
    "        # If Response is NaN, Diff should be NaN too \n",
    "        diff_list = [trial_info['var1_diff'], trial_info['var2_diff'], trial_info['var3_diff'], trial_info['var4_diff']]\n",
    "        df['diff'] =[diff_list[int(r-1)][i] if math.isnan(r) == False else np.nan for i, r in enumerate(df['Response'])]\n",
    "        \n",
    "        # remove unnecessary columns to redce clutter \n",
    "        df = df.drop(columns=['correct_response', 'var1_diff', 'var2_diff', 'var3_diff', 'var4_diff'])\n",
    "        frames.append(df)"
   ]
  },
  {
   "cell_type": "code",
   "execution_count": null,
   "id": "2e711213-c2d6-4edd-8fa9-2ba77471f9ea",
   "metadata": {},
   "outputs": [],
   "source": []
  }
 ],
 "metadata": {
  "kernelspec": {
   "display_name": "Python [conda env:base] *",
   "language": "python",
   "name": "conda-base-py"
  },
  "language_info": {
   "codemirror_mode": {
    "name": "ipython",
    "version": 3
   },
   "file_extension": ".py",
   "mimetype": "text/x-python",
   "name": "python",
   "nbconvert_exporter": "python",
   "pygments_lexer": "ipython3",
   "version": "3.12.7"
  }
 },
 "nbformat": 4,
 "nbformat_minor": 5
}
