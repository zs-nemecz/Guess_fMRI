{
 "cells": [
  {
   "cell_type": "code",
   "execution_count": 1,
   "id": "7c5e2d5c-cc5f-426f-b45c-44703428d1aa",
   "metadata": {},
   "outputs": [],
   "source": [
    "import pandas as pd\n",
    "from os.path import join, isfile\n",
    "from os import listdir\n",
    "import numpy as np"
   ]
  },
  {
   "cell_type": "code",
   "execution_count": 2,
   "id": "4f95b007-0a50-4f2f-9c9e-172e197827d4",
   "metadata": {},
   "outputs": [],
   "source": [
    "datafiles = [join('.\\\\data', f) for f in listdir('./data') if join('./data', f).endswith(\".csv\")]"
   ]
  },
  {
   "cell_type": "code",
   "execution_count": 3,
   "id": "3f290390-b77b-4c58-a58f-ce637e403da8",
   "metadata": {},
   "outputs": [
    {
     "name": "stdout",
     "output_type": "stream",
     "text": [
      "Number of finished experiments 1\n"
     ]
    }
   ],
   "source": [
    "counter = 0\n",
    "learning_frames = []\n",
    "recall_frames = []\n",
    "IDs = []\n",
    "triggers = []\n",
    "for f in datafiles:\n",
    "    \n",
    "    if \"end_part2_text.started\" in pd.read_csv(f):\n",
    "        df = pd.read_csv(f, converters={'ID-Nummer': str})\n",
    "        IDs.append(df[\"ID-Nummer\"][0])\n",
    "        end_start = df[\"wait_for_trigger.stopped\"][df[\"starting_soon.started\"].notna()].values\n",
    "        triggers = [end_start[0], end_start[1], end_start[3], end_start[4]]\n",
    "        df[\"recalled\"] = 0\n",
    "\n",
    "        for row in df.loc[df[\"test_trials.thisIndex\"] >= 0].iterrows():\n",
    "            recalled = row[1][\"recall_reached.keys\"]\n",
    "            cue =  row[1][\"cue\"]\n",
    "            if recalled == 2:\n",
    "                df.loc[df[\"cue\"] == cue, \"recalled\"] = 1\n",
    "            else:\n",
    "                df.loc[df[\"cue\"] == cue, \"recalled\"] = 0\n",
    "\n",
    "        # LEARNING\n",
    "        learning = df.loc[df[\"learning_trials.thisIndex\"] >= 0]\n",
    "        learning_frames.append(learning)\n",
    "\n",
    "        \n",
    "        # RECALL\n",
    "        recall = df.loc[df[\"test_trials.thisIndex\"] >= 0]\n",
    "        recall_frames.append(recall)\n",
    "        counter += 1\n",
    "print('Number of finished experiments', counter)"
   ]
  },
  {
   "cell_type": "code",
   "execution_count": 4,
   "id": "d6e8fde0-e32f-47af-bf0a-b97b9987a82b",
   "metadata": {},
   "outputs": [
    {
     "data": {
      "text/plain": [
       "[147.51405999999952, 782.0453943000002, 1463.4908693999996, 2097.621641]"
      ]
     },
     "execution_count": 4,
     "metadata": {},
     "output_type": "execute_result"
    }
   ],
   "source": [
    "triggers"
   ]
  },
  {
   "cell_type": "code",
   "execution_count": 5,
   "id": "e4fc6bb0-3bb4-4cbd-96b3-537917fbe4e6",
   "metadata": {},
   "outputs": [],
   "source": [
    "delim = ' '\n",
    "form = '%.5f'\n",
    "for frame in learning_frames:\n",
    "    guess_times1 = frame.loc[frame[\"trial_type\"]==\"Guess\",\"guess.started\"] - triggers[0]\n",
    "    guess_times2 = frame.loc[frame[\"trial_type\"]==\"Guess\",\"guess.started\"] - triggers[1]\n",
    "    guess_times1 = guess_times1.values[guess_times2.values < 0]\n",
    "    guess_times2 = guess_times2.values[guess_times2.values >= 0]\n",
    "    guess_times1 = np.array([guess_times1, np.ones(len(guess_times1)) * 3, np.ones(len(guess_times1))]).T\n",
    "    guess_times2 = np.array([guess_times2, np.ones(len(guess_times2)) * 3, np.ones(len(guess_times2))]).T\n",
    "    np.savetxt('onset_files/pilot1_guess_onset_run1.txt', guess_times1, fmt=form, delimiter=delim)\n",
    "    np.savetxt('onset_files/pilot1_guess_onset_run2.txt', guess_times2, fmt=form, delimiter=delim)\n",
    "\n",
    "    guess_reached_times1 = frame.loc[frame[\"trial_type\"]==\"Guess\",\"guess_reached.started\"] - triggers[0]\n",
    "    guess_reached_times2 = frame.loc[frame[\"trial_type\"]==\"Guess\",\"guess_reached.started\"] - triggers[1]\n",
    "    guess_reached_times1 = guess_reached_times1.values[guess_reached_times2.values < 0]\n",
    "    guess_reached_times2 = guess_reached_times2.values[guess_reached_times2.values >= 0]\n",
    "    guess_reached_times1 = np.array([guess_reached_times1, np.ones(len(guess_reached_times1)) * 1.5, np.ones(len(guess_reached_times1))]).T\n",
    "    guess_reached_times2 = np.array([guess_reached_times2, np.ones(len(guess_reached_times2)) * 1.5, np.ones(len(guess_reached_times2))]).T\n",
    "    np.savetxt('onset_files/pilot1_guess_reached_onset_run1.txt', guess_reached_times1, fmt=form, delimiter=delim)\n",
    "    np.savetxt('onset_files/pilot1_guess_reached_onset_run2.txt', guess_reached_times2, fmt=form, delimiter=delim)\n",
    "\n",
    "    # Guess VS Read\n",
    "    encode_guess_times1 = frame.loc[frame[\"trial_type\"]==\"Guess\",\"encode.started\"] - triggers[0]\n",
    "    encode_guess_times2 = frame.loc[frame[\"trial_type\"]==\"Guess\",\"encode.started\"] - triggers[1]\n",
    "    encode_guess_times1 = encode_guess_times1.values[encode_guess_times2.values < 0]\n",
    "    encode_guess_times2 = encode_guess_times2.values[encode_guess_times2.values >= 0]\n",
    "    np.savetxt('onset_files/pilot1_encode_guess_onset_run1.txt', encode_guess_times1, fmt=form, delimiter=delim)\n",
    "    np.savetxt('onset_files/pilot1_encode_guess_onset_run2.txt', encode_guess_times2, fmt=form, delimiter=delim)\n",
    "\n",
    "    encode_read_times1 = frame.loc[frame[\"trial_type\"]==\"Read\",\"encode.started\"] - triggers[0]\n",
    "    encode_read_times2 = frame.loc[frame[\"trial_type\"]==\"Read\",\"encode.started\"] - triggers[1]\n",
    "    encode_read_times1 = encode_read_times1.values[encode_read_times2.values < 0]\n",
    "    encode_read_times2 = encode_read_times2.values[encode_read_times2.values >= 0]\n",
    "    np.savetxt('onset_files/pilot1_encode_read_onset_run1.txt', encode_read_times1, fmt=form, delimiter=delim)\n",
    "    np.savetxt('onset_files/pilot1_encode_read_onset_run2.txt', encode_read_times2, fmt=form, delimiter=delim)\n",
    "\n",
    "    # Subsequent memory\n",
    "    # Guess\n",
    "    encode_guess_correct_times1 = frame.loc[((frame[\"trial_type\"]==\"Guess\") & (frame[\"recalled\"]==1)),\"encode.started\"] - triggers[0]\n",
    "    encode_guess_correct_times2 = frame.loc[((frame[\"trial_type\"]==\"Guess\") & (frame[\"recalled\"]==1)),\"encode.started\"] - triggers[1]\n",
    "    encode_guess_correct_times1 = encode_guess_correct_times1.values[encode_guess_correct_times2.values < 0]\n",
    "    encode_guess_correct_times2 = encode_guess_correct_times2.values[encode_guess_correct_times2.values >= 0]\n",
    "    np.savetxt('onset_files/pilot1_encode_guess_correct_onset_run1.txt', encode_guess_correct_times1, fmt=form, delimiter=delim)\n",
    "    np.savetxt('onset_files/pilot1_encode_guess_correct_onset_run2.txt', encode_guess_correct_times2, fmt=form, delimiter=delim)\n",
    "\n",
    "    encode_guess_incorrect_times1 = frame.loc[((frame[\"trial_type\"]==\"Guess\") & (frame[\"recalled\"]!=1)),\"encode.started\"] - triggers[0]\n",
    "    encode_guess_incorrect_times2 = frame.loc[((frame[\"trial_type\"]==\"Guess\") & (frame[\"recalled\"]!=1)),\"encode.started\"] - triggers[1]\n",
    "    encode_guess_incorrect_times1 = encode_guess_incorrect_times1.values[encode_guess_incorrect_times2.values < 0]\n",
    "    encode_guess_incorrect_times2 = encode_guess_incorrect_times2.values[encode_guess_incorrect_times2.values >= 0]\n",
    "    np.savetxt('onset_files/pilot1_encode_guess_incorrect_onset_run1.txt', encode_guess_incorrect_times1, fmt=form, delimiter=delim)\n",
    "    np.savetxt('onset_files/pilot1_encode_guess_incorrect_onset_run2.txt', encode_guess_incorrect_times2, fmt=form, delimiter=delim)\n",
    "\n",
    "    # Read\n",
    "    encode_read_correct_times1 = frame.loc[((frame[\"trial_type\"]==\"Read\") & (frame[\"recalled\"]==1)),\"encode.started\"] - triggers[0]\n",
    "    encode_read_correct_times2 = frame.loc[((frame[\"trial_type\"]==\"Read\") & (frame[\"recalled\"]==1)),\"encode.started\"] - triggers[1]\n",
    "    encode_read_correct_times1 = encode_read_correct_times1.values[encode_read_correct_times2.values < 0]\n",
    "    encode_read_correct_times2 = encode_read_correct_times2.values[encode_read_correct_times2.values >= 0]\n",
    "    np.savetxt('onset_files/pilot1_encode_read_correct_onset_run1.txt', encode_read_correct_times1, fmt=form, delimiter=delim)\n",
    "    np.savetxt('onset_files/pilot1_encode_read_correct_onset_run2.txt', encode_read_correct_times2, fmt=form, delimiter=delim)\n",
    "\n",
    "    encode_read_incorrect_times1 = frame.loc[((frame[\"trial_type\"]==\"Read\") & (frame[\"recalled\"]!=1)),\"encode.started\"] - triggers[0]\n",
    "    encode_read_incorrect_times2 = frame.loc[((frame[\"trial_type\"]==\"Read\") & (frame[\"recalled\"]!=1)),\"encode.started\"] - triggers[1]\n",
    "    encode_read_incorrect_times1 = encode_read_incorrect_times1.values[encode_read_incorrect_times2.values < 0]\n",
    "    encode_read_incorrect_times2 = encode_read_incorrect_times2.values[encode_read_incorrect_times2.values >= 0]\n",
    "    np.savetxt('onset_files/pilot1_encode_read_incorrect_onset_run1.txt', encode_read_incorrect_times1, fmt=form, delimiter=delim)\n",
    "    np.savetxt('onset_files/pilot1_encode_read_incorrect_onset_run2.txt', encode_read_incorrect_times2, fmt=form, delimiter=delim)"
   ]
  },
  {
   "cell_type": "code",
   "execution_count": null,
   "id": "b1b47c01-6425-4fe3-b9bc-6273d4b19882",
   "metadata": {},
   "outputs": [],
   "source": []
  }
 ],
 "metadata": {
  "kernelspec": {
   "display_name": "Python [conda env:base] *",
   "language": "python",
   "name": "conda-base-py"
  },
  "language_info": {
   "codemirror_mode": {
    "name": "ipython",
    "version": 3
   },
   "file_extension": ".py",
   "mimetype": "text/x-python",
   "name": "python",
   "nbconvert_exporter": "python",
   "pygments_lexer": "ipython3",
   "version": "3.12.7"
  }
 },
 "nbformat": 4,
 "nbformat_minor": 5
}
