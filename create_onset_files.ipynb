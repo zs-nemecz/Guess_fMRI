{
 "cells": [
  {
   "cell_type": "code",
   "execution_count": 1,
   "id": "7c5e2d5c-cc5f-426f-b45c-44703428d1aa",
   "metadata": {},
   "outputs": [],
   "source": [
    "import pandas as pd\n",
    "from os.path import join, isfile\n",
    "from os import listdir\n",
    "import numpy as np"
   ]
  },
  {
   "cell_type": "code",
   "execution_count": 3,
   "id": "4f95b007-0a50-4f2f-9c9e-172e197827d4",
   "metadata": {},
   "outputs": [],
   "source": [
    "datafiles = [join('.\\\\data', f) for f in listdir('./data') if join('./data', f).endswith(\".csv\")]"
   ]
  },
  {
   "cell_type": "code",
   "execution_count": 83,
   "id": "3f290390-b77b-4c58-a58f-ce637e403da8",
   "metadata": {},
   "outputs": [
    {
     "name": "stdout",
     "output_type": "stream",
     "text": [
      "Number of finished experiments 1\n"
     ]
    }
   ],
   "source": [
    "counter = 0\n",
    "learning_frames = []\n",
    "recall_frames = []\n",
    "IDs = []\n",
    "triggers = []\n",
    "for f in datafiles:\n",
    "    \n",
    "    if \"end_part2_text.started\" in pd.read_csv(f):\n",
    "        df = pd.read_csv(f, converters={'ID-Nummer': str})\n",
    "        IDs.append(df[\"ID-Nummer\"][0])\n",
    "        end_start = df[\"wait_for_trigger.stopped\"][df[\"starting_soon.started\"].notna()].values\n",
    "        triggers = [end_start[0], end_start[1], end_start[3], end_start[4]]\n",
    "\n",
    "        # LEARNING\n",
    "        learning = df.loc[df[\"learning_trials.thisIndex\"] >= 0]\n",
    "        learning_frames.append(learning)\n",
    "\n",
    "        \n",
    "        # RECALL\n",
    "        recall = df.loc[df[\"test_trials.thisIndex\"] >= 0]\n",
    "        recall_frames.append(recall)\n",
    "        counter += 1\n",
    "print('Number of finished experiments', counter)"
   ]
  },
  {
   "cell_type": "code",
   "execution_count": 113,
   "id": "d6e8fde0-e32f-47af-bf0a-b97b9987a82b",
   "metadata": {},
   "outputs": [
    {
     "data": {
      "text/plain": [
       "[147.51405999999952, 782.0453943000002, 1463.4908693999996, 2097.621641]"
      ]
     },
     "execution_count": 113,
     "metadata": {},
     "output_type": "execute_result"
    }
   ],
   "source": [
    "triggers"
   ]
  },
  {
   "cell_type": "code",
   "execution_count": 172,
   "id": "e4fc6bb0-3bb4-4cbd-96b3-537917fbe4e6",
   "metadata": {},
   "outputs": [
    {
     "name": "stdout",
     "output_type": "stream",
     "text": [
      "[  9.0278925  24.0207388  55.5377503  70.5496497  85.5502401 103.5623237\n",
      " 118.56473   151.5977238 166.5949145 184.5943843 202.608049  219.1093575\n",
      " 235.6084557 273.1384066 288.1389748 304.6347567 346.6532562 363.1520538\n",
      " 405.215906  420.2286836 439.730644  501.3104791]\n",
      "[4.20530000e-03 1.80054275e+01 8.40638822e+01 1.02083607e+02\n",
      " 1.30597948e+02 1.66643175e+02 2.04173906e+02 2.32691958e+02\n",
      " 2.82239455e+02 2.98739823e+02 3.15252792e+02 3.43769718e+02\n",
      " 3.82799968e+02 3.97798550e+02 4.21831347e+02 4.41331158e+02\n",
      " 4.78878183e+02 5.04376921e+02]\n",
      "[ 12.0325768  27.031242   58.5462229  73.5614217  88.5605529 106.5767296\n",
      " 121.5754229 154.6073264 169.6063289 187.6048638 205.6207026 222.1203612\n",
      " 238.619611  276.1509963 291.1493385 307.6485518 349.663008  366.162855\n",
      " 408.2269674 423.2423216 442.740918  504.3213435]\n",
      "[  3.0159374  21.0153324  87.0775719 105.0936645 133.608525  169.6567604\n",
      " 207.1880379 235.7032672 285.2499927 301.7496273 318.2646417 346.7799728\n",
      " 385.8114083 400.8100304 424.8424563 444.3409255 481.8892219 507.3880661]\n",
      "[ 16.5224767  31.5188961  63.0328629  78.0489495  93.0542509 111.0677633\n",
      " 126.0663183 159.0998605 174.0966388 192.0967658 210.1113255 226.6105873\n",
      " 243.1065805 280.6404355 295.6394908 312.1395987 354.1547069 370.6704488\n",
      " 412.7188942 427.7339841 447.2488063 508.8244431]\n",
      "[  7.5066538  25.5065935  91.5686759 109.5834627 138.0994973 174.148869\n",
      " 211.6761292 240.1934423 289.7360234 306.2381848 322.755856  351.2715602\n",
      " 390.3028232 405.2963336 429.3329382 448.8325647 486.3801177 511.8786259]\n"
     ]
    }
   ],
   "source": [
    "for frame in learning_frames:\n",
    "    guess_times1 = frame.loc[frame[\"trial_type\"]==\"Guess\",\"guess.started\"] - triggers[0]\n",
    "    guess_times2 = frame.loc[frame[\"trial_type\"]==\"Guess\",\"guess.started\"] - triggers[1]\n",
    "    guess_times1 = guess_times1.values[guess_times2.values < 0]\n",
    "    guess_times2 = guess_times2.values[guess_times2.values >= 0]\n",
    "    print(guess_times1)\n",
    "    print(guess_times2)\n",
    "    data = np.array([guess_times1, np.ones(len(guess_times1)), np.ones(len(guess_times1)) * 3]).T\n",
    "    guess1_frame = pd.DataFrame(data=data, columns = ['Onsets', 'Dur', 'Val'])\n",
    "\n",
    "    guess_reached_times1 = frame.loc[frame[\"trial_type\"]==\"Guess\",\"guess_reached.started\"] - triggers[0]\n",
    "    guess_reached_times2 = frame.loc[frame[\"trial_type\"]==\"Guess\",\"guess_reached.started\"] - triggers[1]\n",
    "    guess_reached_times1 = guess_reached_times1.values[guess_reached_times2.values < 0]\n",
    "    guess_reached_times2 = guess_reached_times2.values[guess_reached_times2.values >= 0]\n",
    "    print(guess_reached_times1)\n",
    "    print(guess_reached_times2)\n",
    "\n",
    "    encode_guess_times1 = frame.loc[frame[\"trial_type\"]==\"Guess\",\"encode.started\"] - triggers[0]\n",
    "    encode_guess_times2 = frame.loc[frame[\"trial_type\"]==\"Guess\",\"encode.started\"] - triggers[1]\n",
    "    encode_guess_times1 = encode_guess_times1.values[encode_guess_times2.values < 0]\n",
    "    encode_guess_times2 = encode_guess_times2.values[encode_guess_times2.values >= 0]\n",
    "    print(encode_guess_times1)\n",
    "    print(encode_guess_times2)"
   ]
  },
  {
   "cell_type": "code",
   "execution_count": null,
   "id": "b1b47c01-6425-4fe3-b9bc-6273d4b19882",
   "metadata": {},
   "outputs": [],
   "source": []
  }
 ],
 "metadata": {
  "kernelspec": {
   "display_name": "Python [conda env:base] *",
   "language": "python",
   "name": "conda-base-py"
  },
  "language_info": {
   "codemirror_mode": {
    "name": "ipython",
    "version": 3
   },
   "file_extension": ".py",
   "mimetype": "text/x-python",
   "name": "python",
   "nbconvert_exporter": "python",
   "pygments_lexer": "ipython3",
   "version": "3.12.7"
  }
 },
 "nbformat": 4,
 "nbformat_minor": 5
}
